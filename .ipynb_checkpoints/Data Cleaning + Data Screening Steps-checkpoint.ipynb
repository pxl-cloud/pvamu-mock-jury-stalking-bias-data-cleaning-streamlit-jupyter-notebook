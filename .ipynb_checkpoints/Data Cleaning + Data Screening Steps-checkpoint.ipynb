{
 "cells": [
  {
   "cell_type": "markdown",
   "id": "92879481-8325-4bbf-8947-b382915784e2",
   "metadata": {},
   "source": [
    "# Data Cleaning + Screening Steps"
   ]
  },
  {
   "cell_type": "markdown",
   "id": "38476ec5-bcb2-4545-891b-69b4458b2e95",
   "metadata": {},
   "source": [
    "---"
   ]
  },
  {
   "cell_type": "markdown",
   "id": "2752b857-1caa-488d-8907-f8bce2e34b6a",
   "metadata": {},
   "source": [
    "## What is Data Cleaning?\n",
    "\n",
    "* Enables you to make sure you've met all your assumptions, outliers, and error problems\n",
    "* Each type of analysis will have different types of data screening"
   ]
  },
  {
   "cell_type": "markdown",
   "id": "6b345937-1e71-4f2a-88b8-aa86742996c7",
   "metadata": {},
   "source": [
    "## 🚨 The Big Important Rule 🚨\n",
    "\n",
    "> For __hypothesis testing__ traditionally we use a `p < 0.05` (less than) criterion because you're looking for statistically significant relationship\n",
    "\n",
    "> But for __data screening__ we use a much more stringent criterion of `p > 0.001` (greater than) because we want to make sure the data is astronomically wild before we remove it"
   ]
  },
  {
   "cell_type": "markdown",
   "id": "f36eea74-8c6d-44ea-a6b7-d542d8b0ab86",
   "metadata": {},
   "source": [
    "## Data __Cleaning__ Steps for each Hypothesis\n",
    "\n",
    "> ⚠️ It is paramount that these steps are performed _in the order outlined below_:\n",
    "\n",
    "1. Strip data set for __Only Relevant Variables__\n",
    "2. Check and fix data for __Accuracy__\n",
    "3. Check and fix data for __Missing__ values\n",
    "4. Check and fix data for __Outliers__"
   ]
  },
  {
   "cell_type": "markdown",
   "id": "71f992a5-239a-498a-b98f-62a8dc5b48d0",
   "metadata": {},
   "source": [
    "---"
   ]
  },
  {
   "cell_type": "markdown",
   "id": "c08e8034-eafc-472b-ae42-9a4b6a185687",
   "metadata": {},
   "source": [
    "### 1. Select Relevant Variables Only\n",
    "\n",
    "There's no need to waste time cleaning or scrutinizing data that isn't relevant to the hypothesis you're testing.\n",
    "\n",
    "In addition, for some of the following steps you will need to compare a value against the entire range of values for a single variable, or against the entire set of values across a single observation.\n",
    "\n",
    "In these circumstances only focusing on the variables and/or observations that are relevant to the hypothesis is paramount. If you were to include values from variables or observations that are not relevant to the hypothesis it would change the results and therefore the efficacy of your findings against the hypothesis."
   ]
  },
  {
   "cell_type": "markdown",
   "id": "67acd645-ed02-486b-a339-fdb967df1a12",
   "metadata": {},
   "source": [
    "#### Example:\n",
    "\n",
    "Take a look at the following data set and coding:\n",
    "\n",
    "\n",
    "| Coding Legend        |  |\n",
    "|---------------|-------------------------------------------------------------------------------|\n",
    "| **id**        | Unique identifier for each individual observation                              |\n",
    "| __gender__    | `1` = Male, `2` = Female                                                      |\n",
    "| __education__ | `1` = High School, `2` = Undergraduate Degree, `3` = Graduate Degree          |\n",
    "| __race__      | `1` = White, `2` = Black, `3` = Hispanic, `4` = Pacific Islander, `8` = Other |\n",
    "| __income__    | `1` = \\$0-18k, `2` = \\$18k-36k, `3` = \\$36k-75k, `4` = \\$75k-100k, `5` = $100k+ |\n",
    "\n",
    "| id | gender | education | race | income |\n",
    "|----|--------|-----------|------|--------|\n",
    "| 1  | 1      | 1         | 1    | 1      |\n",
    "| 2  | 2      | 2         | 2    | 1      |\n",
    "| 3  | 1      | 1         | 4    | 2      |\n",
    "| 4  | 2      | 3         | 8    | 3      |\n",
    "| 5  | 1      | 3         | 1    | 3      |\n",
    "\n",
    "If you were to hypothesize a positive correlation between `education` and `income`, you would automatically remove `id`, `gender`, and `race` from your data set. And you would perform the remaining Data Cleaning steps with a data set that looked like this:\n",
    "\n",
    "| education | income |\n",
    "|-----------|--------|\n",
    "| 1         | 1      |\n",
    "| 2         | 1      |\n",
    "| 1         | 2      |\n",
    "| 3         | 3      |\n",
    "| 3         | 3      |\n",
    "\n",
    "> #### ⚠️  It is suggested that you duplicate your data first, then strip irrelevant columns.\n",
    "> #### This allows you to preserve the original data set.\n"
   ]
  },
  {
   "cell_type": "markdown",
   "id": "fbf3a959-06bb-49bf-9593-36126da32694",
   "metadata": {},
   "source": [
    "---"
   ]
  },
  {
   "cell_type": "markdown",
   "id": "c2ebf265-f8eb-4b8a-a293-6f166f2c1a68",
   "metadata": {},
   "source": [
    "### 2. Identify & Fix Inaccurate Data\n",
    "\n",
    "#### Why is it important?\n",
    "\n",
    "Most of the time the data is, at some point between its origin and you, modified by a human. This makes some of the data prone to human error. Therefore, we must _always_ __assume the data has mistakes__ and __thoroughly check for accuracy__.\n",
    "\n",
    "If we do not check our data for accuracy our results may be skewed, misinterpreted, or lacking accurate context.\n",
    "\n",
    "A lot of times you'll find a simple format conversion is needed. Other times you will identify inexplicable values. Here are some of the more common discrepancies in accuracy you may find in your data sets:\n",
    "\n",
    "* __Numbers:__\n",
    "    * `Nineteen` vs `19`\n",
    "    * Float numbers `1.000000` instead of Integers `1`\n",
    "    * Price fields need to be standardized `$10k` vs `10000.00`\n",
    "    * Tempurature recoreded in Celcius but needed in Fahrenheit\n",
    "* __Date/Time:__\n",
    "    * Hour field needs to be adjusted to GMT based on recorded time zone\n",
    "    * `M/D/YY` needs to be converted into `YYYY-MM-DD`\n",
    "* __Strings__\n",
    "    * Email field may need to be made all lowercase, checked for valid format, and/or authorized domain(s)\n",
    "    * Name field may contain prefix like \"Mr.\" or \"Dr.\"\n",
    "\n",
    "#### How do you handle inaccurate data?\n",
    "\n",
    "👉 Either __fix__ or __delete__ the `value` (do <u>not</u> delete the entire observation or entire variable).\n",
    "\n"
   ]
  },
  {
   "cell_type": "markdown",
   "id": "e5fc5bd0-256d-4f95-8bb2-2ba087fa371f",
   "metadata": {},
   "source": [
    "---"
   ]
  },
  {
   "cell_type": "markdown",
   "id": "b313472a-b27d-4eac-8122-71b8418b804b",
   "metadata": {},
   "source": [
    "### 3. Identify & Fix Missing Data\n",
    "* a\n",
    "* b\n",
    "* c"
   ]
  },
  {
   "cell_type": "markdown",
   "id": "6ad18071-65af-4ec1-81a7-38580539917c",
   "metadata": {},
   "source": [
    "---"
   ]
  },
  {
   "cell_type": "markdown",
   "id": "a6c74ac0-a8ce-4995-8271-671a1c04edc1",
   "metadata": {},
   "source": [
    "### 4. Identify & Fix Outliers\n",
    "* a\n",
    "* b\n",
    "* c"
   ]
  },
  {
   "cell_type": "markdown",
   "id": "af7b40d7-fc9b-4a7b-adef-47e6bfa6a4e3",
   "metadata": {},
   "source": [
    "---"
   ]
  },
  {
   "cell_type": "markdown",
   "id": "3f87f464-b3a4-4647-b829-c64214008a7c",
   "metadata": {},
   "source": [
    "## Data __Screening__ Steps for each Hypothesis\n",
    "### Verify Assumptions\n",
    "* Additvity\n",
    "* Normality\n",
    "* Linearity\n",
    "* Homogeneity\n",
    "* Homoscedasticity"
   ]
  },
  {
   "cell_type": "markdown",
   "id": "a32f09bb-cdd2-458b-893b-41032bd6deee",
   "metadata": {},
   "source": [
    "#### Additivity\n",
    "* a\n",
    "* b\n",
    "* c"
   ]
  },
  {
   "cell_type": "markdown",
   "id": "e0513b5a-468a-44e9-8481-15b61cba1ef8",
   "metadata": {},
   "source": [
    "#### Normality\n",
    "* a\n",
    "* b\n",
    "* c"
   ]
  },
  {
   "cell_type": "markdown",
   "id": "7ca9ae5f-85f6-4bad-8563-d005d1cb0ade",
   "metadata": {},
   "source": [
    "#### Linearity\n",
    "* a\n",
    "* b\n",
    "* c"
   ]
  },
  {
   "cell_type": "markdown",
   "id": "83d3c892-a101-46d5-aaa6-4b3040d161b3",
   "metadata": {},
   "source": [
    "#### Homogeneity\n",
    "* a\n",
    "* b\n",
    "* c"
   ]
  },
  {
   "cell_type": "markdown",
   "id": "5ce34d76-32cb-4c4c-8267-4d2651b8d6be",
   "metadata": {},
   "source": [
    "#### Homoscedasticity\n",
    "* a\n",
    "* b\n",
    "* c"
   ]
  }
 ],
 "metadata": {
  "kernelspec": {
   "display_name": "Python 3 (ipykernel)",
   "language": "python",
   "name": "python3"
  },
  "language_info": {
   "codemirror_mode": {
    "name": "ipython",
    "version": 3
   },
   "file_extension": ".py",
   "mimetype": "text/x-python",
   "name": "python",
   "nbconvert_exporter": "python",
   "pygments_lexer": "ipython3",
   "version": "3.13.5"
  }
 },
 "nbformat": 4,
 "nbformat_minor": 5
}
